{
 "cells": [
  {
   "cell_type": "code",
   "execution_count": 1,
   "metadata": {
    "vscode": {
     "languageId": "r"
    }
   },
   "outputs": [
    {
     "name": "stdout",
     "output_type": "stream",
     "text": [
      "[1] 5\n"
     ]
    }
   ],
   "source": [
    "FindSorted <- function(permutation) {\n",
    "  # Loop through each element in the permutation\n",
    "  for (i in seq_along(permutation)) {\n",
    "    # Check if the current element does not match the expected increasing order\n",
    "    if (permutation[i] != i - 1) {\n",
    "      return(i)\n",
    "    }\n",
    "  }\n",
    "  \n",
    "  # If the entire permutation matches the expected order, return the length\n",
    "  return(length(permutation))\n",
    "}\n",
    "\n",
    "# Example usage\n",
    "permutation <- c(0, 1, 2, 3, 6, 7, 4, 5, 8)\n",
    "index <- FindSorted(permutation)\n",
    "print(index)"
   ]
  },
  {
   "cell_type": "code",
   "execution_count": 3,
   "metadata": {
    "vscode": {
     "languageId": "r"
    }
   },
   "outputs": [
    {
     "name": "stdout",
     "output_type": "stream",
     "text": [
      "[1] 1 0 1 0 0 0 0 1 1\n"
     ]
    }
   ],
   "source": [
    "IndicateAscending <- function(permutation) {\n",
    "  # Initialize the indicator vector with zeros\n",
    "  indication <- rep(0, length(permutation))\n",
    "  \n",
    "  # Set the first and last elements to 1\n",
    "  indication[1] <- 1\n",
    "  indication[length(permutation)] <- 1\n",
    "  \n",
    "  # Loop through the permutation to mark ascending parts\n",
    "  for (i in 1:(length(permutation) - 1)) {\n",
    "    if (permutation[i + 1] == permutation[i] + 1) {\n",
    "      indication[i + 1] <- 1\n",
    "    }\n",
    "  }\n",
    "  \n",
    "  return(indication)\n",
    "}\n",
    "\n",
    "# Example usage\n",
    "permutation <- c(0, 4, 5, 3, 2, 1, 6, 7, 8)\n",
    "indication <- IndicateAscending(permutation)\n",
    "print(indication)"
   ]
  },
  {
   "cell_type": "code",
   "execution_count": 9,
   "metadata": {
    "vscode": {
     "languageId": "r"
    }
   },
   "outputs": [
    {
     "name": "stdout",
     "output_type": "stream",
     "text": [
      "[1] 1 2 3 4 5 6 7 8\n"
     ]
    }
   ],
   "source": [
    "reverse_sublist <- function(vec, start, end) {\n",
    "  vec[start:end] <- rev(vec[start:end])\n",
    "  return(vec)\n",
    "}\n",
    "\n",
    "# BreakpointSort function\n",
    "BreakpointSort <- function(permutation) {\n",
    "  # Add marginal values\n",
    "  permutation <- c(0, permutation, max(permutation) + 1)\n",
    "  \n",
    "  while (TRUE) {\n",
    "    # Step 1: Find the start of the unsorted region\n",
    "    sorted_index <- FindSorted(permutation)\n",
    "    \n",
    "    # If the permutation is fully sorted, break the loop\n",
    "    if (sorted_index == length(permutation)) {\n",
    "      break\n",
    "    }\n",
    "    \n",
    "    # Step 2: Mark ascending/descending parts\n",
    "    indication <- IndicateAscending(permutation)\n",
    "    \n",
    "    # Step 3: Find the smallest value in the descending part\n",
    "    descending_indices <- which(indication == 0)\n",
    "    descending_values <- permutation[descending_indices]\n",
    "    if (length(descending_values) == 0) {\n",
    "      break\n",
    "    }\n",
    "    \n",
    "    min_descending_value <- min(descending_values)\n",
    "    min_descending_index <- which(permutation == min_descending_value)[1]\n",
    "    \n",
    "    # Step 4: Reverse between the start of the unsorted region and the smallest descending value\n",
    "    permutation <- reverse_sublist(permutation, sorted_index, min_descending_index)\n",
    "  }\n",
    "  \n",
    "  # Remove marginal values\n",
    "  return(permutation[-c(1, length(permutation))])\n",
    "}\n",
    "\n",
    "# Example usage\n",
    "permutation <- c(5,3,2,1,8,7,4,6)\n",
    "sorted_permutation <- BreakpointSort(permutation)\n",
    "print(sorted_permutation)"
   ]
  }
 ],
 "metadata": {
  "kernelspec": {
   "display_name": "R",
   "language": "R",
   "name": "ir"
  },
  "language_info": {
   "codemirror_mode": "r",
   "file_extension": ".r",
   "mimetype": "text/x-r-source",
   "name": "R",
   "pygments_lexer": "r",
   "version": "4.3.2"
  }
 },
 "nbformat": 4,
 "nbformat_minor": 2
}
